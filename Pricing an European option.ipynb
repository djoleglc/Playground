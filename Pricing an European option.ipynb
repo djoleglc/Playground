{
 "cells": [
  {
   "cell_type": "code",
   "execution_count": 25,
   "id": "1ab52ed8",
   "metadata": {},
   "outputs": [],
   "source": [
    "import numpy as np \n",
    "import matplotlib.pyplot as plt"
   ]
  },
  {
   "cell_type": "code",
   "execution_count": 226,
   "id": "9c015789",
   "metadata": {},
   "outputs": [],
   "source": [
    "class SimulatorGeometricalBrownianMotion:\n",
    "    def __init__(self,initial_price, sigma, r, n, T, n_path):\n",
    "        self.S0 = initial_price\n",
    "        self.sigma = sigma\n",
    "        self.r = r\n",
    "        self.delta = T/n\n",
    "        self.T = T\n",
    "        self.n = n\n",
    "        self.n_path = n_path\n",
    "        \n",
    "    def simulate(self):\n",
    "        price_fun = lambda w :  np.exp( ( self.r - self.sigma**2 / 2 )*self.delta + self.sigma*w*np.sqrt(self.delta))\n",
    "        random = np.random.normal(loc=0.0, scale=1.0, size=(self.n_path,self.n))\n",
    "        self.prices = (price_fun(random)).cumprod(axis = 1) * self.S0\n",
    "    \n",
    "    def plot(self):\n",
    "        plt.plot(self.prices.T)\n",
    "        plt.show()\n",
    "        \n",
    "    \n",
    "def EuropeanMonteCarlo(prices, fun_payoff, r, T):\n",
    "    payoff = fun_payoff(prices[:,-1]) \n",
    "    discounted_payoff = np.exp(-r*T) * payoff\n",
    "    return discounted_payoff.mean(), discounted_payoff.std() \n",
    "\n",
    "\n",
    "def BlackScholesCall(T, strike, initial_price, r, sigma):\n",
    "    d1 = (np.log(initial_price/strike) + (r+sigma**2 / 2)*T)/(np.sqrt(T)*sigma)\n",
    "    d2 = (np.log(initial_price/strike) + (r-sigma**2 / 2)*T)/(np.sqrt(T)*sigma)\n",
    "    return initial_price*norm.cdf(d1)-strike*np.exp(-r*T)*norm.cdf(d2)\n",
    "\n",
    "def BlackScholesPut(T, strike, initial_price, r, sigma):\n",
    "   \n",
    "    return  BlackScholesCall(T, strike, initial_price, r, sigma) - ( initial_price  - strike* np.exp(-r*T)) "
   ]
  },
  {
   "cell_type": "code",
   "execution_count": 227,
   "id": "6dc9db61",
   "metadata": {},
   "outputs": [],
   "source": [
    "def call(strike, X):\n",
    "    return np.maximum( (X-strike) , 0)\n",
    "\n",
    "def put(strike, X):\n",
    "    return np.maximum( (strike-X) , 0)"
   ]
  },
  {
   "cell_type": "code",
   "execution_count": 228,
   "id": "decf388f",
   "metadata": {},
   "outputs": [
    {
     "name": "stdout",
     "output_type": "stream",
     "text": [
      "11.658394772953683\n"
     ]
    }
   ],
   "source": [
    "simulator = SimulatorGeometricalBrownianMotion(100, sigma=0.4, r=0.075, n = 1, T = 1, n_path = int(1e6))\n",
    "simulator.simulate()\n",
    "prices = simulator.prices\n",
    "price_call, std_call = EuropeanMonteCarlo(prices, lambda X : call(strike = 120, X = X), r = 0.075, T=1)\n",
    "print(price_call)"
   ]
  },
  {
   "cell_type": "code",
   "execution_count": 229,
   "id": "663cd6cd",
   "metadata": {},
   "outputs": [
    {
     "data": {
      "text/plain": [
       "11.675923304235909"
      ]
     },
     "execution_count": 229,
     "metadata": {},
     "output_type": "execute_result"
    }
   ],
   "source": [
    "BlackScholesCall(T=1, strike=120, initial_price=100, r=0.075, sigma=0.4)"
   ]
  },
  {
   "cell_type": "code",
   "execution_count": 230,
   "id": "371e0654",
   "metadata": {},
   "outputs": [
    {
     "name": "stdout",
     "output_type": "stream",
     "text": [
      "61.56869230191981\n"
     ]
    }
   ],
   "source": [
    "simulator = SimulatorGeometricalBrownianMotion(50, sigma=0.4, r=0.075, n = 1, T = 1, n_path = int(1e6))\n",
    "simulator.simulate()\n",
    "prices = simulator.prices\n",
    "price_put, _ = EuropeanMonteCarlo(prices, lambda X : put(strike = 120, X = X), r = 0.075, T=1)\n",
    "print(price_put)"
   ]
  },
  {
   "cell_type": "code",
   "execution_count": 231,
   "id": "193edc72",
   "metadata": {},
   "outputs": [
    {
     "data": {
      "text/plain": [
       "61.57787545445779"
      ]
     },
     "execution_count": 231,
     "metadata": {},
     "output_type": "execute_result"
    }
   ],
   "source": [
    "BlackScholesPut(T=1, strike=120, initial_price=50, r=0.075, sigma=0.4)"
   ]
  },
  {
   "cell_type": "code",
   "execution_count": null,
   "id": "e766882c",
   "metadata": {},
   "outputs": [],
   "source": []
  },
  {
   "cell_type": "code",
   "execution_count": null,
   "id": "53441385",
   "metadata": {},
   "outputs": [],
   "source": []
  }
 ],
 "metadata": {
  "kernelspec": {
   "display_name": "Python 3 (ipykernel)",
   "language": "python",
   "name": "python3"
  },
  "language_info": {
   "codemirror_mode": {
    "name": "ipython",
    "version": 3
   },
   "file_extension": ".py",
   "mimetype": "text/x-python",
   "name": "python",
   "nbconvert_exporter": "python",
   "pygments_lexer": "ipython3",
   "version": "3.10.9"
  }
 },
 "nbformat": 4,
 "nbformat_minor": 5
}
